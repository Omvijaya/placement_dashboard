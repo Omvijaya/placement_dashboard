{
  "cells": [
    {
      "cell_type": "markdown",
      "metadata": {
        "id": "view-in-github",
        "colab_type": "text"
      },
      "source": [
        "<a href=\"https://colab.research.google.com/github/Omvijaya/placement_dashboard/blob/main/DB_generation_for_placement_dashboard.ipynb\" target=\"_parent\"><img src=\"https://colab.research.google.com/assets/colab-badge.svg\" alt=\"Open In Colab\"/></a>"
      ]
    },
    {
      "cell_type": "code",
      "execution_count": null,
      "id": "1b21c800",
      "metadata": {
        "id": "1b21c800"
      },
      "outputs": [],
      "source": [
        "DB_CONFIG={\n",
        "    'host': 'localhost',\n",
        "    'user': 'root',\n",
        "    'password': '12345',\n",
        "    'database': 'placement_db'\n",
        "}"
      ]
    },
    {
      "cell_type": "code",
      "execution_count": null,
      "id": "c4c6b091",
      "metadata": {
        "id": "c4c6b091",
        "outputId": "2777f40c-0ba6-4bad-a65f-1cd3617391f1"
      },
      "outputs": [
        {
          "name": "stdout",
          "output_type": "stream",
          "text": [
            "Finished\n"
          ]
        }
      ],
      "source": [
        "\n",
        "import mysql.connector\n",
        "class DataBaseManager:\n",
        "    def __init__(self,**kwargs):\n",
        "        self.conn=mysql.connector.connect(\n",
        "            host=kwargs['host'],\n",
        "            user=kwargs['user'],\n",
        "            password=kwargs['password'],\n",
        "            database=kwargs['database']\n",
        "        )\n",
        "        self.cursor=self.conn.cursor()\n",
        "    def create_table(self,query):\n",
        "        self.cursor.execute(query)\n",
        "        self.conn.commit()\n",
        "    def insert(self,query,values):\n",
        "        self.cursor.execute(query,values)\n",
        "        self.conn.commit()\n",
        "    def fetch(self,query):\n",
        "        self.cursor.execute(query)\n",
        "        return self.cursor.fetchall()\n",
        "    def close(self):\n",
        "        self.conn.close()\n",
        "    print('Finished')"
      ]
    },
    {
      "cell_type": "code",
      "execution_count": null,
      "id": "c8871d5f",
      "metadata": {
        "id": "c8871d5f",
        "outputId": "c3473194-ad04-4cc4-f856-6457c034e24a"
      },
      "outputs": [
        {
          "name": "stdout",
          "output_type": "stream",
          "text": [
            "created\n"
          ]
        }
      ],
      "source": [
        "db=DataBaseManager(**DB_CONFIG)\n",
        "create_students='''\n",
        "CREATE TABLE IF NOT EXISTS students(\n",
        "student_id INT AUTO_INCREMENT PRIMARY KEY,\n",
        "name VARCHAR(255),\n",
        "age INT,\n",
        "gender ENUM('Male','Female'),\n",
        "email VARCHAR(255),\n",
        "phone VARCHAR(255),\n",
        "enrollment_year INT,\n",
        "course_batch VARCHAR(50),\n",
        "city VARCHAR(50),\n",
        "graduation_year INT);'''\n",
        "db.create_table(create_students)\n",
        "print('created')"
      ]
    },
    {
      "cell_type": "code",
      "execution_count": null,
      "id": "73842406",
      "metadata": {
        "id": "73842406",
        "outputId": "b905e9be-9605-4854-a06d-7986ddca6ccd"
      },
      "outputs": [
        {
          "name": "stdout",
          "output_type": "stream",
          "text": [
            "created\n"
          ]
        }
      ],
      "source": [
        "db=DataBaseManager(**DB_CONFIG)\n",
        "create_programs='''\n",
        "CREATE TABLE IF NOT EXISTS Programs(programmming_id INT AUTO_INCREMENT PRIMARY KEY,\n",
        "student_id INT ,\n",
        "programs_solved_in_py INT,\n",
        "programs_solved_in_sql INT,\n",
        "assessments_completed INT,\n",
        "mini_projects INT,\n",
        "certifications_earned INT,\n",
        "latest_project_score INT,\n",
        "FOREIGN KEY(student_id) REFERENCES Students(student_id));\n",
        "'''\n",
        "db.create_table(create_programs)\n",
        "print('created')"
      ]
    },
    {
      "cell_type": "code",
      "execution_count": null,
      "id": "b3d402f5",
      "metadata": {
        "id": "b3d402f5",
        "outputId": "179d5aa0-6280-429b-ebce-4c669c922f6b"
      },
      "outputs": [
        {
          "name": "stdout",
          "output_type": "stream",
          "text": [
            "Created\n"
          ]
        }
      ],
      "source": [
        "db=DataBaseManager(**DB_CONFIG)\n",
        "create_softskill='''\n",
        "CREATE TABLE IF NOT EXISTS SoftSkills (\n",
        "    softskill_id INT AUTO_INCREMENT PRIMARY KEY,\n",
        "    student_id INT,\n",
        "    communication INT,\n",
        "    teamwork INT,\n",
        "    presentation INT,\n",
        "    leadership INT,\n",
        "    critical_thinking INT,\n",
        "    interpersonal_skills INT,\n",
        "    Average_score DECIMAL(10,2),\n",
        "    FOREIGN KEY (student_id) REFERENCES Students(student_id)\n",
        ");\n",
        "'''\n",
        "db.create_table(create_softskill)\n",
        "print('Created')"
      ]
    },
    {
      "cell_type": "code",
      "execution_count": null,
      "id": "4fb196db",
      "metadata": {
        "id": "4fb196db",
        "outputId": "c679b5c0-3398-424b-fa43-ca92eb119f8e"
      },
      "outputs": [
        {
          "name": "stdout",
          "output_type": "stream",
          "text": [
            "Created\n"
          ]
        }
      ],
      "source": [
        "db=DataBaseManager(**DB_CONFIG)\n",
        "create_placements='''\n",
        "CREATE TABLE IF NOT EXISTS Placements (\n",
        "    placement_id INT AUTO_INCREMENT PRIMARY KEY,\n",
        "    student_id INT,\n",
        "    mock_interview_score INT,\n",
        "    internships_completed INT,\n",
        "    placement_status VARCHAR(50),\n",
        "    company_name VARCHAR(100),\n",
        "    placement_package INT,\n",
        "    interview_rounds_cleared INT,\n",
        "    placement_date DATE,\n",
        "    FOREIGN KEY (student_id) REFERENCES Students(student_id)\n",
        ");\n",
        "'''\n",
        "db.create_table(create_placements)\n",
        "print('Created')"
      ]
    },
    {
      "cell_type": "code",
      "execution_count": null,
      "id": "25bc3d06",
      "metadata": {
        "id": "25bc3d06",
        "outputId": "4463c95a-30fa-4dae-9262-f99d7eefc4ec"
      },
      "outputs": [
        {
          "name": "stdout",
          "output_type": "stream",
          "text": [
            "No error\n"
          ]
        }
      ],
      "source": [
        "class student:\n",
        "    def __init__(self,name,age,gender,email,phone,enrollment_year,course_batch,city,graduation_year):\n",
        "        self.name = name\n",
        "        self.age = age\n",
        "        self.gender = gender\n",
        "        self.email = email\n",
        "        self.phone = phone\n",
        "        self.enrollment_year = enrollment_year\n",
        "        self.course_batch = course_batch\n",
        "        self.city = city\n",
        "        self.graduation_year = graduation_year\n",
        "    def save_to_db(self,db):\n",
        "        querry='''INSERT INTO students(\n",
        "        name,age,gender,email,phone,enrollment_year,course_batch,city,graduation_year)\n",
        "        VALUES(%s,%s,%s,%s,%s,%s,%s,%s,%s)\n",
        "        '''\n",
        "        values=(self.name, self.age, self.gender, self.email, self.phone,\n",
        "                  self.enrollment_year, self.course_batch, self.city, self.graduation_year)\n",
        "        db.insert(querry,values)\n",
        "    print('No error')"
      ]
    },
    {
      "cell_type": "code",
      "execution_count": null,
      "id": "e0402690",
      "metadata": {
        "id": "e0402690",
        "outputId": "dc8c0399-4e4e-42e0-b666-3e8aff0fd61a"
      },
      "outputs": [
        {
          "name": "stdout",
          "output_type": "stream",
          "text": [
            "No error\n"
          ]
        }
      ],
      "source": [
        "class Programming:\n",
        "    def __init__(self, student_id, programs_solved_in_py, programs_solved_in_sql, assessments_completed, mini_projects, certifications_earned, latest_project_score):\n",
        "        self.student_id = student_id\n",
        "        self.programs_solved_in_py= programs_solved_in_py\n",
        "        self.programs_solved_in_sql = programs_solved_in_sql\n",
        "        self.assessments_completed = assessments_completed\n",
        "        self.mini_projects = mini_projects\n",
        "        self.certifications_earned = certifications_earned\n",
        "        self.latest_project_score = latest_project_score\n",
        "\n",
        "    def save_to_db(self, db):\n",
        "        query = '''\n",
        "        INSERT INTO Programs (student_id, programs_solved_in_py, programs_solved_in_sql, assessments_completed, mini_projects, certifications_earned, latest_project_score)\n",
        "        VALUES (%s, %s, %s, %s, %s, %s, %s)\n",
        "        '''\n",
        "        values = (self.student_id, self.programs_solved_in_py, self.programs_solved_in_sql, self.assessments_completed,\n",
        "                  self.mini_projects, self.certifications_earned, self.latest_project_score)\n",
        "        db.insert(query, values)\n",
        "    print('No error')"
      ]
    },
    {
      "cell_type": "code",
      "execution_count": null,
      "id": "f286afbb",
      "metadata": {
        "id": "f286afbb",
        "outputId": "1cc3596a-be92-4941-83f4-a02ceb4c4959"
      },
      "outputs": [
        {
          "name": "stdout",
          "output_type": "stream",
          "text": [
            "No error\n"
          ]
        }
      ],
      "source": [
        "class softskills:\n",
        "    def __init__(self,student_id,communication,teamwork,presentation,leadership,critical_thinking,interpersonal_skills,Average_score):\n",
        "        self.student_id = student_id\n",
        "        self.communication = communication\n",
        "        self.teamwork = teamwork\n",
        "        self.presentation = presentation\n",
        "        self.leadership = leadership\n",
        "        self.critical_thinking = critical_thinking\n",
        "        self.interpersonal_skills = interpersonal_skills\n",
        "        self.Average_score = Average_score\n",
        "    def save_to_db(self,db):\n",
        "        query='''INSERT INTO softskills (student_id,communication,teamwork,presentation,leadership,critical_thinking,interpersonal_skills,Average_score)\n",
        "        VALUES(%s,%s,%s,%s,%s,%s,%s,%s)'''\n",
        "        values=(self.student_id, self.communication, self.teamwork, self.presentation,\n",
        "                  self.leadership, self.critical_thinking, self.interpersonal_skills,self.Average_score)\n",
        "        db.insert(query,values)\n",
        "    print('No error')"
      ]
    },
    {
      "cell_type": "code",
      "execution_count": null,
      "id": "2014e32c",
      "metadata": {
        "id": "2014e32c",
        "outputId": "0f7f0033-b32e-4bfe-e135-0c3583caf920"
      },
      "outputs": [
        {
          "name": "stdout",
          "output_type": "stream",
          "text": [
            "No error\n"
          ]
        }
      ],
      "source": [
        "class Placement:\n",
        "    def __init__(self, student_id, mock_interview_score, internships_completed, placement_status, company_name, placement_package, interview_rounds_cleared, placement_date):\n",
        "        self.student_id = student_id\n",
        "        self.mock_interview_score = mock_interview_score\n",
        "        self.internships_completed = internships_completed\n",
        "        self.placement_status = placement_status\n",
        "        self.company_name = company_name\n",
        "        self.placement_package = placement_package\n",
        "        self.interview_rounds_cleared = interview_rounds_cleared\n",
        "        self.placement_date = placement_date\n",
        "\n",
        "    def save_to_db(self, db):\n",
        "        query = '''\n",
        "        INSERT INTO Placements (student_id, mock_interview_score, internships_completed, placement_status, company_name, placement_package, interview_rounds_cleared, placement_date)\n",
        "        VALUES (%s, %s, %s, %s, %s, %s, %s, %s)'''\n",
        "        values = (self.student_id, self.mock_interview_score, self.internships_completed,\n",
        "                  self.placement_status, self.company_name, self.placement_package, self.interview_rounds_cleared, self.placement_date)\n",
        "        db.insert(query, values)\n",
        "    print('No error')"
      ]
    },
    {
      "cell_type": "code",
      "execution_count": null,
      "id": "185d7dde",
      "metadata": {
        "id": "185d7dde",
        "outputId": "a3de3e2e-5e60-4298-989e-1f27ff4235fd"
      },
      "outputs": [
        {
          "name": "stdout",
          "output_type": "stream",
          "text": [
            "No error\n"
          ]
        }
      ],
      "source": [
        "import numpy as np\n",
        "from faker import Faker\n",
        "fake=Faker()\n",
        "db=DataBaseManager(**DB_CONFIG)\n",
        "for i in range(500):\n",
        "    age=np.random.randint(18,25)\n",
        "    s=student(\n",
        "        name=fake.name(),\n",
        "        age=age,\n",
        "        gender=np.random.choice(['Male','Female']),\n",
        "        email=fake.email(),\n",
        "        phone=fake.phone_number()[:15],\n",
        "        enrollment_year=np.random.randint(2023,2025),\n",
        "        course_batch=f'Batch-{np.random.randint(1,15)}',\n",
        "        city=np.random.choice(['Chennai','Banglore','Coimbatore','Kumbakonam','Trichy','Tirunelveli','Selam']),\n",
        "        graduation_year=2045-age)\n",
        "    s.save_to_db(db)\n",
        "print('No error')"
      ]
    },
    {
      "cell_type": "code",
      "execution_count": null,
      "id": "b319cca3",
      "metadata": {
        "id": "b319cca3",
        "outputId": "0e91687c-e818-4ab9-9fa9-a6feb5925e65"
      },
      "outputs": [
        {
          "name": "stdout",
          "output_type": "stream",
          "text": [
            "No error\n"
          ]
        }
      ],
      "source": [
        "import numpy as np\n",
        "student_ids = [row[0] for row in db.fetch('SELECT student_id FROM Students')]\n",
        "for student_id in student_ids:\n",
        "    p = Programming(\n",
        "        student_id=student_id,\n",
        "        programs_solved_in_py=np.random.randint(50, 501),\n",
        "        programs_solved_in_sql=np.random.randint(10, 101),\n",
        "        assessments_completed=np.random.randint(2, 11),\n",
        "        mini_projects=np.random.randint(1, 6),\n",
        "        certifications_earned=np.random.randint(0, 3),\n",
        "        latest_project_score=np.random.randint(50, 101)\n",
        "    )\n",
        "    p.save_to_db(db)\n",
        "print('No error')"
      ]
    },
    {
      "cell_type": "code",
      "execution_count": null,
      "id": "82a4f2b7",
      "metadata": {
        "id": "82a4f2b7",
        "outputId": "0a9a622d-6468-4e45-b803-d0beaa6ba185"
      },
      "outputs": [
        {
          "name": "stdout",
          "output_type": "stream",
          "text": [
            "No error\n"
          ]
        }
      ],
      "source": [
        "import numpy as np\n",
        "student_ids = [row[0] for row in db.fetch('SELECT student_id FROM Students')]\n",
        "for student_id in student_ids:\n",
        "    communication=np.random.randint(40, 100)\n",
        "    teamwork=np.random.randint(40, 100)\n",
        "    presentation=np.random.randint(40, 100)\n",
        "    leadership=np.random.randint(40, 100)\n",
        "    critical_thinking=np.random.randint(40, 100)\n",
        "    interpersonal_skills=np.random.randint(40, 100)\n",
        "    ss = softskills(\n",
        "        student_id=student_id,\n",
        "        communication=communication,\n",
        "        teamwork=teamwork,\n",
        "        presentation=presentation,\n",
        "        leadership=leadership,\n",
        "        critical_thinking=critical_thinking,\n",
        "        interpersonal_skills=interpersonal_skills,\n",
        "        Average_score=(communication+teamwork+presentation+leadership+critical_thinking+interpersonal_skills)/6\n",
        "            )\n",
        "    ss.save_to_db(db)\n",
        "print('No error')"
      ]
    },
    {
      "cell_type": "code",
      "execution_count": null,
      "id": "f8f5a40b",
      "metadata": {
        "id": "f8f5a40b",
        "outputId": "e1fecd95-12d8-472c-b6f4-9ce2760fb1a8"
      },
      "outputs": [
        {
          "name": "stdout",
          "output_type": "stream",
          "text": [
            "Created\n"
          ]
        }
      ],
      "source": [
        "from faker import Faker\n",
        "import numpy as np\n",
        "statuses = [\"Ready\", \"Not Ready\", \"Placed\"]\n",
        "companies = [\"TCS\", \"Infosys\", \"Wipro\", \"Amazon\", \"Google\"]\n",
        "student_ids = [row[0] for row in db.fetch('SELECT student_id FROM Students')]\n",
        "fake=Faker()\n",
        "for student_id in student_ids:\n",
        "    placement_status=np.random.choice(statuses)\n",
        "    company_name=''\n",
        "    placement_package=0\n",
        "    placement_date=None\n",
        "    interview_rounds_cleared=np.random.randint(1,5)\n",
        "    if placement_status=='Placed':\n",
        "        company_name=np.random.choice(companies)\n",
        "        placement_package=100000*(np.random.randint(3,15))\n",
        "        interview_rounds_cleared=5\n",
        "        placement_date=fake.date_between(start_date='-1y', end_date='today')\n",
        "    placement = Placement(\n",
        "        student_id=student_id,\n",
        "        mock_interview_score=np.random.randint(50, 100),\n",
        "        internships_completed=np.random.randint(0, 3),\n",
        "        placement_status=placement_status,\n",
        "        company_name=company_name,\n",
        "        placement_package=placement_package,\n",
        "        interview_rounds_cleared=interview_rounds_cleared,\n",
        "        placement_date=placement_date\n",
        "    )\n",
        "    placement.save_to_db(db)\n",
        "print ('Created')"
      ]
    },
    {
      "cell_type": "code",
      "execution_count": null,
      "id": "12f44704",
      "metadata": {
        "id": "12f44704",
        "outputId": "365dfafa-5342-48f1-b3db-1904f57656ce"
      },
      "outputs": [
        {
          "name": "stdout",
          "output_type": "stream",
          "text": [
            "[(2002, 1, 91, 2, 'Not Ready', '', 0, 0, None), (2003, 2, 75, 1, 'Placed', 'Infosys', 1300000, 5, datetime.date(2025, 5, 5)), (2004, 3, 93, 2, 'Not Ready', '', 0, 2, None), (2005, 4, 98, 1, 'Ready', '', 0, 3, None), (2006, 5, 86, 1, 'Not Ready', '', 0, 2, None), (2007, 6, 51, 0, 'Not Ready', '', 0, 2, None), (2008, 7, 99, 2, 'Not Ready', '', 0, 1, None), (2009, 8, 64, 1, 'Not Ready', '', 0, 3, None), (2010, 9, 78, 2, 'Not Ready', '', 0, 0, None), (2011, 10, 50, 2, 'Not Ready', '', 0, 1, None), (2012, 11, 95, 2, 'Placed', '', 1400000, 5, datetime.date(2024, 11, 3)), (2013, 12, 62, 2, 'Ready', '', 0, 1, None), (2014, 13, 52, 1, 'Not Ready', '', 0, 0, None), (2015, 14, 60, 2, 'Ready', '', 0, 2, None), (2016, 15, 73, 0, 'Placed', 'Amazon', 1200000, 5, datetime.date(2025, 3, 28)), (2017, 16, 78, 1, 'Placed', 'Google', 400000, 5, datetime.date(2025, 4, 23)), (2018, 17, 86, 1, 'Placed', 'Infosys', 1400000, 5, datetime.date(2024, 12, 16)), (2019, 18, 82, 0, 'Not Ready', '', 0, 2, None), (2020, 19, 77, 2, 'Placed', '', 1400000, 5, datetime.date(2025, 6, 22)), (2021, 20, 78, 0, 'Ready', '', 0, 1, None), (2022, 21, 87, 0, 'Not Ready', '', 0, 1, None), (2023, 22, 63, 2, 'Placed', 'Infosys', 400000, 5, datetime.date(2025, 6, 4)), (2024, 23, 69, 1, 'Placed', 'TCS', 400000, 5, datetime.date(2025, 1, 16)), (2025, 24, 70, 2, 'Not Ready', '', 0, 2, None), (2026, 25, 93, 1, 'Not Ready', '', 0, 2, None), (2027, 26, 67, 1, 'Placed', 'Infosys', 1000000, 5, datetime.date(2024, 8, 7)), (2028, 27, 72, 1, 'Not Ready', '', 0, 2, None), (2029, 28, 75, 2, 'Not Ready', '', 0, 0, None), (2030, 29, 96, 1, 'Not Ready', '', 0, 1, None), (2031, 30, 94, 2, 'Not Ready', '', 0, 2, None), (2032, 31, 99, 1, 'Not Ready', '', 0, 4, None), (2033, 32, 97, 1, 'Not Ready', '', 0, 3, None), (2034, 33, 55, 0, 'Not Ready', '', 0, 0, None), (2035, 34, 88, 2, 'Ready', '', 0, 0, None), (2036, 35, 65, 2, 'Not Ready', '', 0, 2, None), (2037, 36, 95, 1, 'Not Ready', '', 0, 2, None), (2038, 37, 78, 2, 'Not Ready', '', 0, 2, None), (2039, 38, 80, 1, 'Placed', 'TCS', 1100000, 5, datetime.date(2025, 1, 3)), (2040, 39, 83, 1, 'Ready', '', 0, 1, None), (2041, 40, 57, 1, 'Ready', '', 0, 3, None), (2042, 41, 60, 1, 'Ready', '', 0, 0, None), (2043, 42, 74, 2, 'Not Ready', '', 0, 2, None), (2044, 43, 77, 1, 'Ready', '', 0, 2, None), (2045, 44, 85, 2, 'Not Ready', '', 0, 4, None), (2046, 45, 61, 2, 'Ready', '', 0, 2, None), (2047, 46, 54, 1, 'Placed', 'Wipro', 1100000, 5, datetime.date(2025, 5, 9)), (2048, 47, 90, 2, 'Placed', 'Google', 1200000, 5, datetime.date(2024, 9, 26)), (2049, 48, 76, 0, 'Ready', '', 0, 0, None), (2050, 49, 99, 2, 'Not Ready', '', 0, 1, None), (2051, 50, 50, 1, 'Not Ready', '', 0, 1, None), (2052, 51, 51, 2, 'Placed', 'TCS', 600000, 5, datetime.date(2024, 12, 15)), (2053, 52, 94, 0, 'Not Ready', '', 0, 0, None), (2054, 53, 97, 1, 'Not Ready', '', 0, 2, None), (2055, 54, 50, 2, 'Placed', '', 300000, 5, datetime.date(2025, 6, 15)), (2056, 55, 97, 2, 'Not Ready', '', 0, 0, None), (2057, 56, 90, 1, 'Not Ready', '', 0, 3, None), (2058, 57, 58, 0, 'Ready', '', 0, 2, None), (2059, 58, 54, 1, 'Placed', 'Infosys', 300000, 5, datetime.date(2025, 7, 13)), (2060, 59, 58, 0, 'Placed', 'Infosys', 400000, 5, datetime.date(2025, 1, 26)), (2061, 60, 56, 0, 'Placed', 'Wipro', 900000, 5, datetime.date(2024, 11, 30)), (2062, 61, 99, 1, 'Placed', 'Infosys', 1400000, 5, datetime.date(2025, 6, 30)), (2063, 62, 70, 0, 'Placed', 'TCS', 1400000, 5, datetime.date(2025, 3, 29)), (2064, 63, 55, 2, 'Not Ready', '', 0, 4, None), (2065, 64, 58, 0, 'Placed', 'TCS', 500000, 5, datetime.date(2025, 1, 14)), (2066, 65, 64, 0, 'Ready', '', 0, 4, None), (2067, 66, 90, 2, 'Ready', '', 0, 4, None), (2068, 67, 68, 2, 'Ready', '', 0, 4, None), (2069, 68, 82, 2, 'Not Ready', '', 0, 2, None), (2070, 69, 92, 1, 'Not Ready', '', 0, 3, None), (2071, 70, 94, 2, 'Not Ready', '', 0, 4, None), (2072, 71, 57, 0, 'Placed', 'Google', 1000000, 5, datetime.date(2025, 5, 21)), (2073, 72, 71, 0, 'Placed', 'Infosys', 1300000, 5, datetime.date(2025, 4, 17)), (2074, 73, 73, 1, 'Ready', '', 0, 0, None), (2075, 74, 97, 2, 'Ready', '', 0, 1, None), (2076, 75, 55, 2, 'Ready', '', 0, 2, None), (2077, 76, 76, 2, 'Ready', '', 0, 1, None), (2078, 77, 89, 1, 'Placed', '', 1000000, 5, datetime.date(2024, 10, 6)), (2079, 78, 89, 1, 'Ready', '', 0, 0, None), (2080, 79, 68, 2, 'Not Ready', '', 0, 0, None), (2081, 80, 78, 2, 'Placed', 'Amazon', 500000, 5, datetime.date(2025, 3, 11)), (2082, 81, 89, 1, 'Not Ready', '', 0, 1, None), (2083, 82, 73, 1, 'Not Ready', '', 0, 0, None), (2084, 83, 64, 0, 'Ready', '', 0, 0, None), (2085, 84, 66, 1, 'Ready', '', 0, 3, None), (2086, 85, 70, 0, 'Not Ready', '', 0, 0, None), (2087, 86, 86, 2, 'Ready', '', 0, 3, None), (2088, 87, 72, 1, 'Not Ready', '', 0, 4, None), (2089, 88, 77, 1, 'Placed', 'Amazon', 400000, 5, datetime.date(2024, 12, 13)), (2090, 89, 56, 2, 'Not Ready', '', 0, 3, None), (2091, 90, 54, 2, 'Ready', '', 0, 1, None), (2092, 91, 88, 1, 'Not Ready', '', 0, 1, None), (2093, 92, 64, 1, 'Ready', '', 0, 0, None), (2094, 93, 69, 1, 'Ready', '', 0, 1, None), (2095, 94, 98, 2, 'Not Ready', '', 0, 3, None), (2096, 95, 62, 1, 'Not Ready', '', 0, 3, None), (2097, 96, 74, 2, 'Placed', 'Wipro', 300000, 5, datetime.date(2025, 5, 11)), (2098, 97, 61, 1, 'Placed', 'TCS', 1100000, 5, datetime.date(2024, 10, 29)), (2099, 98, 60, 1, 'Not Ready', '', 0, 1, None), (2100, 99, 83, 1, 'Placed', 'Infosys', 800000, 5, datetime.date(2025, 1, 24)), (2101, 100, 82, 2, 'Not Ready', '', 0, 2, None), (2102, 101, 92, 1, 'Placed', 'Infosys', 600000, 5, datetime.date(2025, 3, 22)), (2103, 102, 85, 0, 'Not Ready', '', 0, 4, None), (2104, 103, 98, 2, 'Not Ready', '', 0, 4, None), (2105, 104, 81, 2, 'Placed', 'TCS', 600000, 5, datetime.date(2025, 3, 27)), (2106, 105, 72, 2, 'Placed', 'Amazon', 700000, 5, datetime.date(2025, 1, 3)), (2107, 106, 60, 0, 'Ready', '', 0, 2, None), (2108, 107, 82, 2, 'Placed', 'TCS', 1100000, 5, datetime.date(2024, 12, 17)), (2109, 108, 96, 2, 'Placed', 'Google', 900000, 5, datetime.date(2024, 11, 10)), (2110, 109, 58, 0, 'Ready', '', 0, 0, None), (2111, 110, 97, 1, 'Not Ready', '', 0, 2, None), (2112, 111, 84, 2, 'Placed', 'TCS', 1200000, 5, datetime.date(2024, 7, 31)), (2113, 112, 66, 0, 'Ready', '', 0, 3, None), (2114, 113, 71, 1, 'Not Ready', '', 0, 1, None), (2115, 114, 58, 1, 'Placed', '', 400000, 5, datetime.date(2024, 11, 30)), (2116, 115, 64, 0, 'Not Ready', '', 0, 1, None), (2117, 116, 66, 0, 'Ready', '', 0, 3, None), (2118, 117, 78, 1, 'Placed', 'Google', 500000, 5, datetime.date(2024, 7, 30)), (2119, 118, 63, 0, 'Placed', 'Google', 300000, 5, datetime.date(2025, 3, 17)), (2120, 119, 96, 1, 'Placed', '', 700000, 5, datetime.date(2025, 5, 13)), (2121, 120, 93, 1, 'Ready', '', 0, 0, None), (2122, 121, 92, 1, 'Not Ready', '', 0, 3, None), (2123, 122, 96, 1, 'Placed', 'TCS', 1200000, 5, datetime.date(2025, 3, 11)), (2124, 123, 51, 0, 'Ready', '', 0, 3, None), (2125, 124, 55, 2, 'Ready', '', 0, 4, None), (2126, 125, 80, 0, 'Not Ready', '', 0, 2, None), (2127, 126, 77, 0, 'Ready', '', 0, 0, None), (2128, 127, 93, 2, 'Placed', '', 800000, 5, datetime.date(2024, 10, 23)), (2129, 128, 56, 0, 'Placed', 'Wipro', 1100000, 5, datetime.date(2025, 4, 17)), (2130, 129, 91, 1, 'Placed', 'Wipro', 900000, 5, datetime.date(2025, 3, 29)), (2131, 130, 79, 0, 'Placed', 'Wipro', 1400000, 5, datetime.date(2024, 11, 19)), (2132, 131, 84, 1, 'Ready', '', 0, 4, None), (2133, 132, 83, 1, 'Placed', 'TCS', 1300000, 5, datetime.date(2025, 5, 23)), (2134, 133, 69, 2, 'Not Ready', '', 0, 1, None), (2135, 134, 81, 1, 'Placed', 'Google', 1000000, 5, datetime.date(2025, 6, 16)), (2136, 135, 85, 1, 'Placed', '', 300000, 5, datetime.date(2024, 11, 9)), (2137, 136, 82, 1, 'Ready', '', 0, 3, None), (2138, 137, 68, 2, 'Placed', 'Infosys', 300000, 5, datetime.date(2025, 4, 23)), (2139, 138, 94, 2, 'Not Ready', '', 0, 2, None), (2140, 139, 71, 0, 'Not Ready', '', 0, 4, None), (2141, 140, 88, 0, 'Placed', '', 1400000, 5, datetime.date(2024, 12, 21)), (2142, 141, 78, 0, 'Not Ready', '', 0, 4, None), (2143, 142, 72, 0, 'Ready', '', 0, 3, None), (2144, 143, 93, 2, 'Placed', '', 1000000, 5, datetime.date(2025, 4, 9)), (2145, 144, 98, 2, 'Ready', '', 0, 4, None), (2146, 145, 51, 0, 'Ready', '', 0, 0, None), (2147, 146, 92, 0, 'Not Ready', '', 0, 2, None), (2148, 147, 92, 0, 'Not Ready', '', 0, 4, None), (2149, 148, 71, 0, 'Placed', 'Infosys', 1000000, 5, datetime.date(2025, 6, 8)), (2150, 149, 96, 2, 'Not Ready', '', 0, 0, None), (2151, 150, 61, 1, 'Placed', 'Google', 400000, 5, datetime.date(2024, 12, 16)), (2152, 151, 88, 1, 'Not Ready', '', 0, 4, None), (2153, 152, 56, 2, 'Placed', 'Infosys', 400000, 5, datetime.date(2025, 1, 3)), (2154, 153, 84, 1, 'Ready', '', 0, 1, None), (2155, 154, 73, 1, 'Placed', '', 1200000, 5, datetime.date(2025, 5, 15)), (2156, 155, 88, 2, 'Not Ready', '', 0, 4, None), (2157, 156, 57, 1, 'Ready', '', 0, 3, None), (2158, 157, 92, 0, 'Placed', 'Wipro', 700000, 5, datetime.date(2024, 7, 30)), (2159, 158, 88, 0, 'Ready', '', 0, 0, None), (2160, 159, 68, 0, 'Placed', 'Wipro', 1000000, 5, datetime.date(2024, 8, 11)), (2161, 160, 57, 1, 'Placed', 'Wipro', 900000, 5, datetime.date(2024, 9, 21)), (2162, 161, 84, 2, 'Not Ready', '', 0, 1, None), (2163, 162, 82, 2, 'Placed', 'Amazon', 500000, 5, datetime.date(2025, 3, 7)), (2164, 163, 54, 0, 'Ready', '', 0, 4, None), (2165, 164, 60, 1, 'Ready', '', 0, 3, None), (2166, 165, 82, 0, 'Placed', '', 600000, 5, datetime.date(2024, 8, 21)), (2167, 166, 71, 1, 'Placed', '', 900000, 5, datetime.date(2024, 11, 27)), (2168, 167, 72, 0, 'Placed', '', 1300000, 5, datetime.date(2024, 12, 26)), (2169, 168, 69, 1, 'Ready', '', 0, 2, None), (2170, 169, 52, 1, 'Placed', 'TCS', 1000000, 5, datetime.date(2024, 10, 4)), (2171, 170, 61, 2, 'Placed', '', 900000, 5, datetime.date(2025, 7, 14)), (2172, 171, 75, 0, 'Placed', 'Google', 800000, 5, datetime.date(2024, 12, 21)), (2173, 172, 66, 0, 'Placed', 'Infosys', 400000, 5, datetime.date(2025, 4, 16)), (2174, 173, 60, 2, 'Ready', '', 0, 1, None), (2175, 174, 74, 1, 'Not Ready', '', 0, 4, None), (2176, 175, 91, 0, 'Not Ready', '', 0, 4, None), (2177, 176, 70, 0, 'Not Ready', '', 0, 2, None), (2178, 177, 83, 1, 'Not Ready', '', 0, 4, None), (2179, 178, 53, 0, 'Ready', '', 0, 0, None), (2180, 179, 82, 0, 'Not Ready', '', 0, 3, None), (2181, 180, 79, 1, 'Placed', '', 300000, 5, datetime.date(2025, 2, 18)), (2182, 181, 53, 0, 'Not Ready', '', 0, 3, None), (2183, 182, 82, 1, 'Not Ready', '', 0, 3, None), (2184, 183, 61, 0, 'Placed', 'Wipro', 1000000, 5, datetime.date(2024, 12, 12)), (2185, 184, 50, 1, 'Ready', '', 0, 3, None), (2186, 185, 80, 2, 'Ready', '', 0, 1, None), (2187, 186, 78, 0, 'Placed', 'Amazon', 1300000, 5, datetime.date(2024, 10, 9)), (2188, 187, 77, 1, 'Ready', '', 0, 2, None), (2189, 188, 89, 0, 'Ready', '', 0, 1, None), (2190, 189, 69, 2, 'Not Ready', '', 0, 2, None), (2191, 190, 54, 2, 'Ready', '', 0, 4, None), (2192, 191, 84, 2, 'Not Ready', '', 0, 0, None), (2193, 192, 60, 1, 'Ready', '', 0, 0, None), (2194, 193, 87, 2, 'Not Ready', '', 0, 0, None), (2195, 194, 75, 0, 'Ready', '', 0, 4, None), (2196, 195, 64, 1, 'Ready', '', 0, 3, None), (2197, 196, 66, 2, 'Placed', 'TCS', 900000, 5, datetime.date(2025, 6, 11)), (2198, 197, 89, 1, 'Ready', '', 0, 2, None), (2199, 198, 75, 2, 'Placed', 'TCS', 500000, 5, datetime.date(2024, 12, 26)), (2200, 199, 62, 2, 'Placed', 'TCS', 400000, 5, datetime.date(2025, 6, 8)), (2201, 200, 78, 0, 'Ready', '', 0, 2, None), (2202, 201, 97, 2, 'Not Ready', '', 0, 1, None), (2203, 202, 66, 1, 'Ready', '', 0, 4, None), (2204, 203, 73, 0, 'Placed', 'Wipro', 700000, 5, datetime.date(2025, 5, 29)), (2205, 204, 55, 2, 'Not Ready', '', 0, 1, None), (2206, 205, 69, 1, 'Placed', 'TCS', 400000, 5, datetime.date(2024, 9, 12)), (2207, 206, 85, 2, 'Not Ready', '', 0, 2, None), (2208, 207, 67, 1, 'Not Ready', '', 0, 4, None), (2209, 208, 95, 2, 'Not Ready', '', 0, 1, None), (2210, 209, 51, 0, 'Placed', 'Amazon', 500000, 5, datetime.date(2024, 9, 1)), (2211, 210, 72, 0, 'Placed', 'Amazon', 1200000, 5, datetime.date(2025, 5, 16)), (2212, 211, 90, 1, 'Not Ready', '', 0, 0, None), (2213, 212, 67, 0, 'Not Ready', '', 0, 3, None), (2214, 213, 71, 2, 'Ready', '', 0, 2, None), (2215, 214, 58, 0, 'Ready', '', 0, 4, None), (2216, 215, 70, 1, 'Placed', 'Infosys', 1300000, 5, datetime.date(2024, 11, 24)), (2217, 216, 63, 0, 'Ready', '', 0, 4, None), (2218, 217, 99, 1, 'Not Ready', '', 0, 0, None), (2219, 218, 80, 0, 'Ready', '', 0, 1, None), (2220, 219, 59, 2, 'Placed', 'Infosys', 500000, 5, datetime.date(2024, 12, 13)), (2221, 220, 96, 1, 'Not Ready', '', 0, 4, None), (2222, 221, 60, 1, 'Ready', '', 0, 2, None), (2223, 222, 56, 2, 'Placed', 'Infosys', 400000, 5, datetime.date(2024, 9, 2)), (2224, 223, 80, 1, 'Not Ready', '', 0, 1, None), (2225, 224, 77, 1, 'Placed', 'Infosys', 1400000, 5, datetime.date(2025, 1, 2)), (2226, 225, 86, 1, 'Placed', 'Infosys', 800000, 5, datetime.date(2024, 11, 28)), (2227, 226, 53, 2, 'Not Ready', '', 0, 4, None), (2228, 227, 59, 1, 'Placed', 'Google', 500000, 5, datetime.date(2025, 6, 18)), (2229, 228, 87, 2, 'Not Ready', '', 0, 2, None), (2230, 229, 57, 1, 'Ready', '', 0, 4, None), (2231, 230, 80, 2, 'Placed', '', 1100000, 5, datetime.date(2025, 4, 12)), (2232, 231, 83, 2, 'Placed', 'Amazon', 400000, 5, datetime.date(2025, 6, 17)), (2233, 232, 75, 2, 'Placed', 'Wipro', 1100000, 5, datetime.date(2025, 2, 2)), (2234, 233, 86, 2, 'Ready', '', 0, 4, None), (2235, 234, 82, 0, 'Placed', 'Google', 700000, 5, datetime.date(2025, 1, 12)), (2236, 235, 71, 0, 'Placed', 'Infosys', 900000, 5, datetime.date(2024, 7, 30)), (2237, 236, 94, 2, 'Placed', 'Amazon', 800000, 5, datetime.date(2025, 3, 17)), (2238, 237, 98, 1, 'Ready', '', 0, 0, None), (2239, 238, 88, 0, 'Not Ready', '', 0, 1, None), (2240, 239, 69, 2, 'Not Ready', '', 0, 2, None), (2241, 240, 60, 2, 'Not Ready', '', 0, 1, None), (2242, 241, 57, 2, 'Ready', '', 0, 0, None), (2243, 242, 52, 0, 'Ready', '', 0, 4, None), (2244, 243, 93, 2, 'Ready', '', 0, 1, None), (2245, 244, 95, 0, 'Placed', '', 800000, 5, datetime.date(2025, 6, 24)), (2246, 245, 56, 2, 'Ready', '', 0, 1, None), (2247, 246, 96, 0, 'Placed', 'Amazon', 1000000, 5, datetime.date(2025, 5, 7)), (2248, 247, 60, 2, 'Ready', '', 0, 2, None), (2249, 248, 92, 0, 'Placed', 'Google', 800000, 5, datetime.date(2024, 7, 27)), (2250, 249, 98, 2, 'Placed', 'Google', 1300000, 5, datetime.date(2024, 12, 8)), (2251, 250, 70, 1, 'Placed', 'TCS', 500000, 5, datetime.date(2025, 2, 24)), (2252, 251, 72, 1, 'Ready', '', 0, 1, None), (2253, 252, 79, 0, 'Ready', '', 0, 3, None), (2254, 253, 83, 2, 'Not Ready', '', 0, 2, None), (2255, 254, 52, 0, 'Placed', 'Infosys', 300000, 5, datetime.date(2025, 4, 9)), (2256, 255, 79, 0, 'Ready', '', 0, 2, None), (2257, 256, 73, 2, 'Placed', 'Amazon', 700000, 5, datetime.date(2024, 10, 21)), (2258, 257, 65, 1, 'Ready', '', 0, 3, None), (2259, 258, 88, 2, 'Ready', '', 0, 4, None), (2260, 259, 80, 0, 'Not Ready', '', 0, 2, None), (2261, 260, 70, 0, 'Not Ready', '', 0, 1, None), (2262, 261, 55, 0, 'Ready', '', 0, 3, None), (2263, 262, 86, 0, 'Placed', 'Infosys', 300000, 5, datetime.date(2025, 4, 3)), (2264, 263, 78, 2, 'Not Ready', '', 0, 1, None), (2265, 264, 71, 0, 'Ready', '', 0, 3, None), (2266, 265, 54, 0, 'Not Ready', '', 0, 2, None), (2267, 266, 84, 2, 'Not Ready', '', 0, 2, None), (2268, 267, 84, 0, 'Ready', '', 0, 0, None), (2269, 268, 93, 2, 'Placed', 'Amazon', 300000, 5, datetime.date(2025, 3, 28)), (2270, 269, 64, 2, 'Ready', '', 0, 0, None), (2271, 270, 80, 1, 'Not Ready', '', 0, 1, None), (2272, 271, 60, 2, 'Not Ready', '', 0, 0, None), (2273, 272, 71, 0, 'Placed', 'Infosys', 1100000, 5, datetime.date(2025, 4, 23)), (2274, 273, 65, 0, 'Not Ready', '', 0, 4, None), (2275, 274, 72, 1, 'Placed', 'Infosys', 1400000, 5, datetime.date(2024, 12, 18)), (2276, 275, 73, 2, 'Ready', '', 0, 2, None), (2277, 276, 65, 2, 'Not Ready', '', 0, 4, None), (2278, 277, 98, 2, 'Not Ready', '', 0, 2, None), (2279, 278, 76, 2, 'Not Ready', '', 0, 4, None), (2280, 279, 95, 0, 'Ready', '', 0, 2, None), (2281, 280, 63, 1, 'Not Ready', '', 0, 0, None), (2282, 281, 97, 0, 'Ready', '', 0, 4, None), (2283, 282, 59, 2, 'Not Ready', '', 0, 1, None), (2284, 283, 65, 2, 'Not Ready', '', 0, 4, None), (2285, 284, 96, 0, 'Not Ready', '', 0, 0, None), (2286, 285, 96, 0, 'Placed', 'Amazon', 1300000, 5, datetime.date(2024, 11, 8)), (2287, 286, 90, 1, 'Placed', '', 1100000, 5, datetime.date(2025, 2, 27)), (2288, 287, 92, 2, 'Ready', '', 0, 2, None), (2289, 288, 51, 2, 'Not Ready', '', 0, 3, None), (2290, 289, 56, 2, 'Not Ready', '', 0, 2, None), (2291, 290, 50, 2, 'Ready', '', 0, 3, None), (2292, 291, 98, 1, 'Placed', 'Amazon', 1400000, 5, datetime.date(2025, 5, 2)), (2293, 292, 92, 0, 'Not Ready', '', 0, 4, None), (2294, 293, 75, 1, 'Ready', '', 0, 1, None), (2295, 294, 77, 2, 'Placed', 'Amazon', 400000, 5, datetime.date(2024, 12, 2)), (2296, 295, 93, 1, 'Placed', 'Wipro', 800000, 5, datetime.date(2025, 5, 4)), (2297, 296, 96, 0, 'Not Ready', '', 0, 3, None), (2298, 297, 85, 0, 'Placed', 'Wipro', 500000, 5, datetime.date(2025, 7, 7)), (2299, 298, 66, 1, 'Placed', 'Google', 1300000, 5, datetime.date(2024, 8, 7)), (2300, 299, 97, 1, 'Not Ready', '', 0, 3, None), (2301, 300, 93, 2, 'Ready', '', 0, 4, None), (2302, 301, 86, 1, 'Placed', 'Infosys', 1400000, 5, datetime.date(2025, 6, 30)), (2303, 302, 53, 1, 'Not Ready', '', 0, 1, None), (2304, 303, 88, 1, 'Placed', 'TCS', 1400000, 5, datetime.date(2025, 6, 18)), (2305, 304, 62, 0, 'Ready', '', 0, 2, None), (2306, 305, 62, 2, 'Placed', 'TCS', 600000, 5, datetime.date(2025, 2, 16)), (2307, 306, 72, 2, 'Not Ready', '', 0, 4, None), (2308, 307, 92, 2, 'Ready', '', 0, 3, None), (2309, 308, 79, 1, 'Placed', 'Wipro', 1300000, 5, datetime.date(2025, 1, 9)), (2310, 309, 66, 2, 'Ready', '', 0, 3, None), (2311, 310, 79, 0, 'Placed', 'Google', 800000, 5, datetime.date(2024, 9, 11)), (2312, 311, 97, 0, 'Placed', 'Google', 300000, 5, datetime.date(2024, 11, 5)), (2313, 312, 98, 1, 'Ready', '', 0, 2, None), (2314, 313, 73, 1, 'Ready', '', 0, 4, None), (2315, 314, 86, 1, 'Ready', '', 0, 4, None), (2316, 315, 59, 0, 'Not Ready', '', 0, 0, None), (2317, 316, 55, 0, 'Ready', '', 0, 4, None), (2318, 317, 59, 2, 'Placed', 'Google', 1100000, 5, datetime.date(2024, 11, 28)), (2319, 318, 75, 0, 'Ready', '', 0, 0, None), (2320, 319, 89, 1, 'Not Ready', '', 0, 0, None), (2321, 320, 85, 0, 'Ready', '', 0, 2, None), (2322, 321, 66, 2, 'Placed', 'Infosys', 800000, 5, datetime.date(2025, 5, 7)), (2323, 322, 54, 2, 'Not Ready', '', 0, 4, None), (2324, 323, 83, 1, 'Not Ready', '', 0, 1, None), (2325, 324, 87, 0, 'Not Ready', '', 0, 1, None), (2326, 325, 56, 0, 'Not Ready', '', 0, 3, None), (2327, 326, 77, 1, 'Not Ready', '', 0, 1, None), (2328, 327, 91, 0, 'Not Ready', '', 0, 2, None), (2329, 328, 77, 2, 'Not Ready', '', 0, 2, None), (2330, 329, 61, 2, 'Placed', 'Wipro', 1400000, 5, datetime.date(2025, 2, 4)), (2331, 330, 85, 0, 'Not Ready', '', 0, 3, None), (2332, 331, 55, 1, 'Placed', 'TCS', 800000, 5, datetime.date(2025, 2, 6)), (2333, 332, 59, 0, 'Ready', '', 0, 2, None), (2334, 333, 50, 1, 'Placed', 'TCS', 1200000, 5, datetime.date(2025, 6, 11)), (2335, 334, 94, 1, 'Placed', 'Google', 600000, 5, datetime.date(2024, 12, 24)), (2336, 335, 76, 2, 'Ready', '', 0, 3, None), (2337, 336, 54, 2, 'Not Ready', '', 0, 2, None), (2338, 337, 96, 1, 'Placed', 'TCS', 1400000, 5, datetime.date(2025, 5, 18)), (2339, 338, 86, 2, 'Placed', '', 1400000, 5, datetime.date(2024, 9, 19)), (2340, 339, 64, 2, 'Not Ready', '', 0, 4, None), (2341, 340, 99, 2, 'Ready', '', 0, 1, None), (2342, 341, 71, 0, 'Placed', '', 300000, 5, datetime.date(2024, 12, 12)), (2343, 342, 99, 2, 'Not Ready', '', 0, 3, None), (2344, 343, 91, 0, 'Not Ready', '', 0, 3, None), (2345, 344, 52, 1, 'Placed', 'Amazon', 900000, 5, datetime.date(2025, 4, 2)), (2346, 345, 93, 1, 'Not Ready', '', 0, 1, None), (2347, 346, 95, 1, 'Placed', 'Google', 1300000, 5, datetime.date(2024, 11, 17)), (2348, 347, 83, 1, 'Placed', 'Amazon', 300000, 5, datetime.date(2025, 1, 24)), (2349, 348, 60, 0, 'Placed', 'Amazon', 1300000, 5, datetime.date(2025, 6, 18)), (2350, 349, 67, 2, 'Placed', 'TCS', 900000, 5, datetime.date(2024, 12, 26)), (2351, 350, 63, 2, 'Ready', '', 0, 2, None), (2352, 351, 67, 0, 'Placed', 'Infosys', 500000, 5, datetime.date(2024, 12, 18)), (2353, 352, 97, 2, 'Placed', '', 1300000, 5, datetime.date(2025, 5, 19)), (2354, 353, 97, 1, 'Ready', '', 0, 1, None), (2355, 354, 99, 0, 'Ready', '', 0, 0, None), (2356, 355, 83, 2, 'Not Ready', '', 0, 2, None), (2357, 356, 99, 2, 'Not Ready', '', 0, 3, None), (2358, 357, 62, 1, 'Ready', '', 0, 1, None), (2359, 358, 83, 2, 'Not Ready', '', 0, 2, None), (2360, 359, 83, 0, 'Not Ready', '', 0, 3, None), (2361, 360, 86, 1, 'Not Ready', '', 0, 3, None), (2362, 361, 57, 0, 'Not Ready', '', 0, 3, None), (2363, 362, 96, 2, 'Ready', '', 0, 0, None), (2364, 363, 60, 1, 'Placed', 'Infosys', 1100000, 5, datetime.date(2025, 3, 3)), (2365, 364, 92, 0, 'Ready', '', 0, 3, None), (2366, 365, 95, 2, 'Ready', '', 0, 1, None), (2367, 366, 54, 0, 'Not Ready', '', 0, 3, None), (2368, 367, 55, 0, 'Ready', '', 0, 1, None), (2369, 368, 59, 1, 'Placed', 'Amazon', 1400000, 5, datetime.date(2024, 8, 29)), (2370, 369, 75, 2, 'Ready', '', 0, 4, None), (2371, 370, 94, 2, 'Placed', 'Wipro', 1200000, 5, datetime.date(2025, 2, 5)), (2372, 371, 76, 0, 'Not Ready', '', 0, 0, None), (2373, 372, 74, 2, 'Not Ready', '', 0, 0, None), (2374, 373, 87, 0, 'Not Ready', '', 0, 0, None), (2375, 374, 70, 1, 'Not Ready', '', 0, 2, None), (2376, 375, 89, 1, 'Placed', 'TCS', 1100000, 5, datetime.date(2025, 6, 2)), (2377, 376, 85, 2, 'Ready', '', 0, 4, None), (2378, 377, 60, 2, 'Not Ready', '', 0, 1, None), (2379, 378, 86, 2, 'Not Ready', '', 0, 3, None), (2380, 379, 76, 1, 'Placed', 'Amazon', 600000, 5, datetime.date(2024, 11, 17)), (2381, 380, 92, 2, 'Not Ready', '', 0, 1, None), (2382, 381, 62, 2, 'Placed', 'Infosys', 300000, 5, datetime.date(2025, 7, 10)), (2383, 382, 84, 2, 'Placed', 'Google', 1400000, 5, datetime.date(2025, 4, 18)), (2384, 383, 89, 1, 'Ready', '', 0, 0, None), (2385, 384, 67, 0, 'Placed', 'Google', 500000, 5, datetime.date(2025, 3, 22)), (2386, 385, 64, 1, 'Ready', '', 0, 4, None), (2387, 386, 61, 2, 'Not Ready', '', 0, 1, None), (2388, 387, 72, 1, 'Placed', 'TCS', 300000, 5, datetime.date(2025, 6, 2)), (2389, 388, 70, 2, 'Ready', '', 0, 0, None), (2390, 389, 51, 1, 'Not Ready', '', 0, 3, None), (2391, 390, 96, 1, 'Not Ready', '', 0, 0, None), (2392, 391, 74, 2, 'Ready', '', 0, 1, None), (2393, 392, 64, 2, 'Ready', '', 0, 0, None), (2394, 393, 53, 0, 'Ready', '', 0, 3, None), (2395, 394, 69, 1, 'Not Ready', '', 0, 1, None), (2396, 395, 57, 1, 'Ready', '', 0, 3, None), (2397, 396, 66, 1, 'Placed', 'TCS', 600000, 5, datetime.date(2024, 9, 5)), (2398, 397, 83, 0, 'Ready', '', 0, 4, None), (2399, 398, 60, 0, 'Not Ready', '', 0, 0, None), (2400, 399, 67, 0, 'Not Ready', '', 0, 3, None), (2401, 400, 87, 1, 'Placed', 'TCS', 800000, 5, datetime.date(2024, 12, 4)), (2402, 401, 65, 0, 'Placed', 'Wipro', 500000, 5, datetime.date(2025, 7, 19)), (2403, 402, 84, 2, 'Ready', '', 0, 4, None), (2404, 403, 85, 0, 'Placed', 'Google', 500000, 5, datetime.date(2025, 2, 16)), (2405, 404, 53, 0, 'Ready', '', 0, 0, None), (2406, 405, 52, 1, 'Placed', 'Wipro', 1200000, 5, datetime.date(2025, 2, 5)), (2407, 406, 68, 1, 'Placed', 'Infosys', 300000, 5, datetime.date(2025, 4, 9)), (2408, 407, 97, 2, 'Placed', 'Infosys', 800000, 5, datetime.date(2025, 6, 20)), (2409, 408, 72, 1, 'Not Ready', '', 0, 1, None), (2410, 409, 86, 0, 'Ready', '', 0, 1, None), (2411, 410, 60, 0, 'Not Ready', '', 0, 1, None), (2412, 411, 94, 0, 'Placed', 'Amazon', 1200000, 5, datetime.date(2024, 12, 19)), (2413, 412, 65, 0, 'Placed', 'Amazon', 1300000, 5, datetime.date(2024, 10, 14)), (2414, 413, 72, 2, 'Not Ready', '', 0, 4, None), (2415, 414, 51, 1, 'Placed', 'Amazon', 1300000, 5, datetime.date(2025, 4, 30)), (2416, 415, 98, 1, 'Placed', 'Google', 300000, 5, datetime.date(2024, 8, 1)), (2417, 416, 87, 1, 'Not Ready', '', 0, 4, None), (2418, 417, 82, 0, 'Not Ready', '', 0, 0, None), (2419, 418, 57, 0, 'Placed', 'Google', 900000, 5, datetime.date(2024, 10, 12)), (2420, 419, 70, 2, 'Placed', 'Amazon', 900000, 5, datetime.date(2025, 2, 28)), (2421, 420, 77, 2, 'Placed', 'Google', 800000, 5, datetime.date(2025, 6, 2)), (2422, 421, 60, 2, 'Ready', '', 0, 1, None), (2423, 422, 56, 0, 'Ready', '', 0, 3, None), (2424, 423, 61, 0, 'Placed', 'Amazon', 1000000, 5, datetime.date(2024, 10, 17)), (2425, 424, 75, 0, 'Not Ready', '', 0, 1, None), (2426, 425, 70, 2, 'Ready', '', 0, 0, None), (2427, 426, 50, 0, 'Ready', '', 0, 2, None), (2428, 427, 85, 1, 'Placed', 'TCS', 1300000, 5, datetime.date(2025, 5, 23)), (2429, 428, 53, 0, 'Placed', 'Infosys', 600000, 5, datetime.date(2025, 3, 1)), (2430, 429, 52, 2, 'Ready', '', 0, 2, None), (2431, 430, 85, 2, 'Not Ready', '', 0, 2, None), (2432, 431, 79, 0, 'Not Ready', '', 0, 1, None), (2433, 432, 66, 0, 'Not Ready', '', 0, 0, None), (2434, 433, 81, 0, 'Ready', '', 0, 3, None), (2435, 434, 86, 1, 'Placed', 'Wipro', 700000, 5, datetime.date(2025, 1, 11)), (2436, 435, 87, 2, 'Ready', '', 0, 0, None), (2437, 436, 83, 2, 'Placed', 'TCS', 1200000, 5, datetime.date(2024, 9, 6)), (2438, 437, 84, 2, 'Placed', 'Google', 1300000, 5, datetime.date(2024, 10, 27)), (2439, 438, 66, 0, 'Ready', '', 0, 1, None), (2440, 439, 97, 2, 'Ready', '', 0, 0, None), (2441, 440, 51, 2, 'Ready', '', 0, 0, None), (2442, 441, 75, 2, 'Not Ready', '', 0, 2, None), (2443, 442, 92, 0, 'Ready', '', 0, 3, None), (2444, 443, 58, 1, 'Not Ready', '', 0, 3, None), (2445, 444, 73, 0, 'Ready', '', 0, 2, None), (2446, 445, 80, 2, 'Ready', '', 0, 4, None), (2447, 446, 83, 2, 'Placed', 'TCS', 500000, 5, datetime.date(2025, 4, 18)), (2448, 447, 80, 2, 'Placed', 'Wipro', 1300000, 5, datetime.date(2025, 1, 31)), (2449, 448, 61, 0, 'Not Ready', '', 0, 1, None), (2450, 449, 92, 2, 'Placed', 'Amazon', 800000, 5, datetime.date(2025, 5, 7)), (2451, 450, 89, 1, 'Ready', '', 0, 0, None), (2452, 451, 51, 2, 'Placed', 'Amazon', 400000, 5, datetime.date(2024, 12, 16)), (2453, 452, 98, 2, 'Placed', 'Infosys', 1400000, 5, datetime.date(2025, 4, 22)), (2454, 453, 97, 0, 'Placed', 'TCS', 900000, 5, datetime.date(2024, 12, 20)), (2455, 454, 59, 0, 'Placed', 'TCS', 1300000, 5, datetime.date(2024, 9, 11)), (2456, 455, 52, 0, 'Not Ready', '', 0, 1, None), (2457, 456, 66, 0, 'Placed', 'Wipro', 1200000, 5, datetime.date(2024, 9, 2)), (2458, 457, 58, 0, 'Placed', 'TCS', 500000, 5, datetime.date(2024, 11, 8)), (2459, 458, 70, 1, 'Not Ready', '', 0, 3, None), (2460, 459, 80, 0, 'Placed', 'Wipro', 800000, 5, datetime.date(2024, 12, 30)), (2461, 460, 90, 1, 'Not Ready', '', 0, 4, None), (2462, 461, 78, 2, 'Placed', '', 800000, 5, datetime.date(2025, 3, 31)), (2463, 462, 95, 0, 'Placed', 'TCS', 800000, 5, datetime.date(2024, 12, 18)), (2464, 463, 70, 1, 'Placed', '', 700000, 5, datetime.date(2024, 11, 14)), (2465, 464, 85, 1, 'Ready', '', 0, 2, None), (2466, 465, 57, 2, 'Ready', '', 0, 0, None), (2467, 466, 79, 2, 'Placed', 'TCS', 300000, 5, datetime.date(2025, 7, 5)), (2468, 467, 71, 2, 'Placed', 'Wipro', 1100000, 5, datetime.date(2025, 6, 18)), (2469, 468, 60, 0, 'Placed', 'Infosys', 400000, 5, datetime.date(2024, 8, 10)), (2470, 469, 98, 2, 'Not Ready', '', 0, 2, None), (2471, 470, 55, 2, 'Placed', 'Wipro', 400000, 5, datetime.date(2025, 4, 10)), (2472, 471, 91, 2, 'Ready', '', 0, 4, None), (2473, 472, 79, 2, 'Ready', '', 0, 1, None), (2474, 473, 51, 0, 'Placed', 'Wipro', 1200000, 5, datetime.date(2025, 1, 3)), (2475, 474, 60, 1, 'Placed', 'Wipro', 600000, 5, datetime.date(2025, 3, 14)), (2476, 475, 72, 0, 'Not Ready', '', 0, 4, None), (2477, 476, 57, 0, 'Placed', 'Infosys', 1100000, 5, datetime.date(2025, 7, 7)), (2478, 477, 74, 2, 'Ready', '', 0, 1, None), (2479, 478, 69, 2, 'Placed', 'TCS', 900000, 5, datetime.date(2025, 3, 26)), (2480, 479, 73, 1, 'Ready', '', 0, 4, None), (2481, 480, 50, 1, 'Not Ready', '', 0, 1, None), (2482, 481, 91, 2, 'Ready', '', 0, 1, None), (2483, 482, 86, 1, 'Not Ready', '', 0, 3, None), (2484, 483, 57, 1, 'Placed', 'Infosys', 1200000, 5, datetime.date(2025, 6, 30)), (2485, 484, 80, 2, 'Ready', '', 0, 0, None), (2486, 485, 82, 0, 'Not Ready', '', 0, 4, None), (2487, 486, 94, 0, 'Not Ready', '', 0, 4, None), (2488, 487, 53, 2, 'Placed', 'TCS', 900000, 5, datetime.date(2025, 1, 6)), (2489, 488, 76, 0, 'Ready', '', 0, 3, None), (2490, 489, 62, 2, 'Not Ready', '', 0, 0, None), (2491, 490, 83, 0, 'Ready', '', 0, 3, None), (2492, 491, 83, 2, 'Ready', '', 0, 1, None), (2493, 492, 51, 2, 'Placed', 'Google', 1300000, 5, datetime.date(2025, 5, 5)), (2494, 493, 78, 1, 'Not Ready', '', 0, 4, None), (2495, 494, 91, 1, 'Placed', 'Infosys', 1000000, 5, datetime.date(2024, 8, 2)), (2496, 495, 76, 1, 'Ready', '', 0, 1, None), (2497, 496, 89, 1, 'Not Ready', '', 0, 2, None), (2498, 497, 90, 2, 'Not Ready', '', 0, 3, None), (2499, 498, 68, 1, 'Placed', 'Google', 800000, 5, datetime.date(2025, 4, 21)), (2500, 499, 96, 0, 'Placed', '', 400000, 5, datetime.date(2024, 11, 7)), (2501, 500, 80, 1, 'Placed', 'Google', 500000, 5, datetime.date(2024, 11, 5))]\n"
          ]
        }
      ],
      "source": [
        "dp=DataBaseManager(**DB_CONFIG)\n",
        "print(dp.fetch('Select * from placements'))"
      ]
    },
    {
      "cell_type": "code",
      "execution_count": null,
      "id": "e4fcbb02",
      "metadata": {
        "id": "e4fcbb02"
      },
      "outputs": [],
      "source": []
    }
  ],
  "metadata": {
    "kernelspec": {
      "display_name": "base",
      "language": "python",
      "name": "python3"
    },
    "language_info": {
      "codemirror_mode": {
        "name": "ipython",
        "version": 3
      },
      "file_extension": ".py",
      "mimetype": "text/x-python",
      "name": "python",
      "nbconvert_exporter": "python",
      "pygments_lexer": "ipython3",
      "version": "3.13.5"
    },
    "colab": {
      "provenance": [],
      "include_colab_link": true
    }
  },
  "nbformat": 4,
  "nbformat_minor": 5
}
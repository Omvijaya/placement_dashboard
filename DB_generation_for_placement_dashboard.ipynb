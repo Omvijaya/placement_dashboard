{
  "cells": [
    {
      "cell_type": "markdown",
      "metadata": {
        "id": "view-in-github",
        "colab_type": "text"
      },
      "source": [
        "<a href=\"https://colab.research.google.com/github/Omvijaya/placement_dashboard/blob/main/DB_generation_for_placement_dashboard.ipynb\" target=\"_parent\"><img src=\"https://colab.research.google.com/assets/colab-badge.svg\" alt=\"Open In Colab\"/></a>"
      ]
    },
    {
      "cell_type": "code",
      "execution_count": null,
      "id": "1b21c800",
      "metadata": {
        "id": "1b21c800"
      },
      "outputs": [],
      "source": [
        "DB_CONFIG={\n",
        "    'host': 'localhost',\n",
        "    'user': 'root',\n",
        "    'password': '12345',\n",
        "    'database': 'placement_db'\n",
        "}"
      ]
    },
    {
      "cell_type": "code",
      "execution_count": null,
      "id": "c4c6b091",
      "metadata": {
        "id": "c4c6b091",
        "outputId": "2777f40c-0ba6-4bad-a65f-1cd3617391f1"
      },
      "outputs": [
        {
          "name": "stdout",
          "output_type": "stream",
          "text": [
            "Finished\n"
          ]
        }
      ],
      "source": [
        "\n",
        "import mysql.connector\n",
        "class DataBaseManager:\n",
        "    def __init__(self,**kwargs):\n",
        "        self.conn=mysql.connector.connect(\n",
        "            host=kwargs['host'],\n",
        "            user=kwargs['user'],\n",
        "            password=kwargs['password'],\n",
        "            database=kwargs['database']\n",
        "        )\n",
        "        self.cursor=self.conn.cursor()\n",
        "    def create_table(self,query):\n",
        "        self.cursor.execute(query)\n",
        "        self.conn.commit()\n",
        "    def insert(self,query,values):\n",
        "        self.cursor.execute(query,values)\n",
        "        self.conn.commit()\n",
        "    def fetch(self,query):\n",
        "        self.cursor.execute(query)\n",
        "        return self.cursor.fetchall()\n",
        "    def close(self):\n",
        "        self.conn.close()\n",
        "    print('Finished')"
      ]
    },
    {
      "cell_type": "code",
      "execution_count": null,
      "id": "c8871d5f",
      "metadata": {
        "id": "c8871d5f",
        "outputId": "c3473194-ad04-4cc4-f856-6457c034e24a"
      },
      "outputs": [
        {
          "name": "stdout",
          "output_type": "stream",
          "text": [
            "created\n"
          ]
        }
      ],
      "source": [
        "db=DataBaseManager(**DB_CONFIG)\n",
        "create_students='''\n",
        "CREATE TABLE IF NOT EXISTS students(\n",
        "student_id INT AUTO_INCREMENT PRIMARY KEY,\n",
        "name VARCHAR(255),\n",
        "age INT,\n",
        "gender ENUM('Male','Female'),\n",
        "email VARCHAR(255),\n",
        "phone VARCHAR(255),\n",
        "enrollment_year INT,\n",
        "course_batch VARCHAR(50),\n",
        "city VARCHAR(50),\n",
        "graduation_year INT);'''\n",
        "db.create_table(create_students)\n",
        "print('created')"
      ]
    },
    {
      "cell_type": "code",
      "execution_count": null,
      "id": "73842406",
      "metadata": {
        "id": "73842406",
        "outputId": "b905e9be-9605-4854-a06d-7986ddca6ccd"
      },
      "outputs": [
        {
          "name": "stdout",
          "output_type": "stream",
          "text": [
            "created\n"
          ]
        }
      ],
      "source": [
        "db=DataBaseManager(**DB_CONFIG)\n",
        "create_programs='''\n",
        "CREATE TABLE IF NOT EXISTS Programs(programmming_id INT AUTO_INCREMENT PRIMARY KEY,\n",
        "student_id INT ,\n",
        "programs_solved_in_py INT,\n",
        "programs_solved_in_sql INT,\n",
        "assessments_completed INT,\n",
        "mini_projects INT,\n",
        "certifications_earned INT,\n",
        "latest_project_score INT,\n",
        "FOREIGN KEY(student_id) REFERENCES Students(student_id));\n",
        "'''\n",
        "db.create_table(create_programs)\n",
        "print('created')"
      ]
    },
    {
      "cell_type": "code",
      "execution_count": null,
      "id": "b3d402f5",
      "metadata": {
        "id": "b3d402f5",
        "outputId": "179d5aa0-6280-429b-ebce-4c669c922f6b"
      },
      "outputs": [
        {
          "name": "stdout",
          "output_type": "stream",
          "text": [
            "Created\n"
          ]
        }
      ],
      "source": [
        "db=DataBaseManager(**DB_CONFIG)\n",
        "create_softskill='''\n",
        "CREATE TABLE IF NOT EXISTS SoftSkills (\n",
        "    softskill_id INT AUTO_INCREMENT PRIMARY KEY,\n",
        "    student_id INT,\n",
        "    communication INT,\n",
        "    teamwork INT,\n",
        "    presentation INT,\n",
        "    leadership INT,\n",
        "    critical_thinking INT,\n",
        "    interpersonal_skills INT,\n",
        "    Average_score DECIMAL(10,2),\n",
        "    FOREIGN KEY (student_id) REFERENCES Students(student_id)\n",
        ");\n",
        "'''\n",
        "db.create_table(create_softskill)\n",
        "print('Created')"
      ]
    },
    {
      "cell_type": "code",
      "execution_count": null,
      "id": "4fb196db",
      "metadata": {
        "id": "4fb196db",
        "outputId": "c679b5c0-3398-424b-fa43-ca92eb119f8e"
      },
      "outputs": [
        {
          "name": "stdout",
          "output_type": "stream",
          "text": [
            "Created\n"
          ]
        }
      ],
      "source": [
        "db=DataBaseManager(**DB_CONFIG)\n",
        "create_placements='''\n",
        "CREATE TABLE IF NOT EXISTS Placements (\n",
        "    placement_id INT AUTO_INCREMENT PRIMARY KEY,\n",
        "    student_id INT,\n",
        "    mock_interview_score INT,\n",
        "    internships_completed INT,\n",
        "    placement_status VARCHAR(50),\n",
        "    company_name VARCHAR(100),\n",
        "    placement_package INT,\n",
        "    interview_rounds_cleared INT,\n",
        "    placement_date DATE,\n",
        "    FOREIGN KEY (student_id) REFERENCES Students(student_id)\n",
        ");\n",
        "'''\n",
        "db.create_table(create_placements)\n",
        "print('Created')"
      ]
    },
    {
      "cell_type": "code",
      "execution_count": null,
      "id": "25bc3d06",
      "metadata": {
        "id": "25bc3d06",
        "outputId": "4463c95a-30fa-4dae-9262-f99d7eefc4ec"
      },
      "outputs": [
        {
          "name": "stdout",
          "output_type": "stream",
          "text": [
            "No error\n"
          ]
        }
      ],
      "source": [
        "class student:\n",
        "    def __init__(self,name,age,gender,email,phone,enrollment_year,course_batch,city,graduation_year):\n",
        "        self.name = name\n",
        "        self.age = age\n",
        "        self.gender = gender\n",
        "        self.email = email\n",
        "        self.phone = phone\n",
        "        self.enrollment_year = enrollment_year\n",
        "        self.course_batch = course_batch\n",
        "        self.city = city\n",
        "        self.graduation_year = graduation_year\n",
        "    def save_to_db(self,db):\n",
        "        querry='''INSERT INTO students(\n",
        "        name,age,gender,email,phone,enrollment_year,course_batch,city,graduation_year)\n",
        "        VALUES(%s,%s,%s,%s,%s,%s,%s,%s,%s)\n",
        "        '''\n",
        "        values=(self.name, self.age, self.gender, self.email, self.phone,\n",
        "                  self.enrollment_year, self.course_batch, self.city, self.graduation_year)\n",
        "        db.insert(querry,values)\n",
        "    print('No error')"
      ]
    },
    {
      "cell_type": "code",
      "execution_count": null,
      "id": "e0402690",
      "metadata": {
        "id": "e0402690",
        "outputId": "dc8c0399-4e4e-42e0-b666-3e8aff0fd61a"
      },
      "outputs": [
        {
          "name": "stdout",
          "output_type": "stream",
          "text": [
            "No error\n"
          ]
        }
      ],
      "source": [
        "class Programming:\n",
        "    def __init__(self, student_id, programs_solved_in_py, programs_solved_in_sql, assessments_completed, mini_projects, certifications_earned, latest_project_score):\n",
        "        self.student_id = student_id\n",
        "        self.programs_solved_in_py= programs_solved_in_py\n",
        "        self.programs_solved_in_sql = programs_solved_in_sql\n",
        "        self.assessments_completed = assessments_completed\n",
        "        self.mini_projects = mini_projects\n",
        "        self.certifications_earned = certifications_earned\n",
        "        self.latest_project_score = latest_project_score\n",
        "\n",
        "    def save_to_db(self, db):\n",
        "        query = '''\n",
        "        INSERT INTO Programs (student_id, programs_solved_in_py, programs_solved_in_sql, assessments_completed, mini_projects, certifications_earned, latest_project_score)\n",
        "        VALUES (%s, %s, %s, %s, %s, %s, %s)\n",
        "        '''\n",
        "        values = (self.student_id, self.programs_solved_in_py, self.programs_solved_in_sql, self.assessments_completed,\n",
        "                  self.mini_projects, self.certifications_earned, self.latest_project_score)\n",
        "        db.insert(query, values)\n",
        "    print('No error')"
      ]
    },
    {
      "cell_type": "code",
      "execution_count": null,
      "id": "f286afbb",
      "metadata": {
        "id": "f286afbb",
        "outputId": "1cc3596a-be92-4941-83f4-a02ceb4c4959"
      },
      "outputs": [
        {
          "name": "stdout",
          "output_type": "stream",
          "text": [
            "No error\n"
          ]
        }
      ],
      "source": [
        "class softskills:\n",
        "    def __init__(self,student_id,communication,teamwork,presentation,leadership,critical_thinking,interpersonal_skills,Average_score):\n",
        "        self.student_id = student_id\n",
        "        self.communication = communication\n",
        "        self.teamwork = teamwork\n",
        "        self.presentation = presentation\n",
        "        self.leadership = leadership\n",
        "        self.critical_thinking = critical_thinking\n",
        "        self.interpersonal_skills = interpersonal_skills\n",
        "        self.Average_score = Average_score\n",
        "    def save_to_db(self,db):\n",
        "        query='''INSERT INTO softskills (student_id,communication,teamwork,presentation,leadership,critical_thinking,interpersonal_skills,Average_score)\n",
        "        VALUES(%s,%s,%s,%s,%s,%s,%s,%s)'''\n",
        "        values=(self.student_id, self.communication, self.teamwork, self.presentation,\n",
        "                  self.leadership, self.critical_thinking, self.interpersonal_skills,self.Average_score)\n",
        "        db.insert(query,values)\n",
        "    print('No error')"
      ]
    },
    {
      "cell_type": "code",
      "execution_count": null,
      "id": "2014e32c",
      "metadata": {
        "id": "2014e32c",
        "outputId": "0f7f0033-b32e-4bfe-e135-0c3583caf920"
      },
      "outputs": [
        {
          "name": "stdout",
          "output_type": "stream",
          "text": [
            "No error\n"
          ]
        }
      ],
      "source": [
        "class Placement:\n",
        "    def __init__(self, student_id, mock_interview_score, internships_completed, placement_status, company_name, placement_package, interview_rounds_cleared, placement_date):\n",
        "        self.student_id = student_id\n",
        "        self.mock_interview_score = mock_interview_score\n",
        "        self.internships_completed = internships_completed\n",
        "        self.placement_status = placement_status\n",
        "        self.company_name = company_name\n",
        "        self.placement_package = placement_package\n",
        "        self.interview_rounds_cleared = interview_rounds_cleared\n",
        "        self.placement_date = placement_date\n",
        "\n",
        "    def save_to_db(self, db):\n",
        "        query = '''\n",
        "        INSERT INTO Placements (student_id, mock_interview_score, internships_completed, placement_status, company_name, placement_package, interview_rounds_cleared, placement_date)\n",
        "        VALUES (%s, %s, %s, %s, %s, %s, %s, %s)'''\n",
        "        values = (self.student_id, self.mock_interview_score, self.internships_completed,\n",
        "                  self.placement_status, self.company_name, self.placement_package, self.interview_rounds_cleared, self.placement_date)\n",
        "        db.insert(query, values)\n",
        "    print('No error')"
      ]
    },
    {
      "cell_type": "code",
      "execution_count": null,
      "id": "185d7dde",
      "metadata": {
        "id": "185d7dde",
        "outputId": "a3de3e2e-5e60-4298-989e-1f27ff4235fd"
      },
      "outputs": [
        {
          "name": "stdout",
          "output_type": "stream",
          "text": [
            "No error\n"
          ]
        }
      ],
      "source": [
        "import numpy as np\n",
        "from faker import Faker\n",
        "fake=Faker()\n",
        "db=DataBaseManager(**DB_CONFIG)\n",
        "for i in range(500):\n",
        "    age=np.random.randint(18,25)\n",
        "    s=student(\n",
        "        name=fake.name(),\n",
        "        age=age,\n",
        "        gender=np.random.choice(['Male','Female']),\n",
        "        email=fake.email(),\n",
        "        phone=fake.phone_number()[:15],\n",
        "        enrollment_year=np.random.randint(2023,2025),\n",
        "        course_batch=f'Batch-{np.random.randint(1,15)}',\n",
        "        city=np.random.choice(['Chennai','Banglore','Coimbatore','Kumbakonam','Trichy','Tirunelveli','Selam']),\n",
        "        graduation_year=2045-age)\n",
        "    s.save_to_db(db)\n",
        "print('No error')"
      ]
    },
    {
      "cell_type": "code",
      "execution_count": null,
      "id": "b319cca3",
      "metadata": {
        "id": "b319cca3",
        "outputId": "0e91687c-e818-4ab9-9fa9-a6feb5925e65"
      },
      "outputs": [
        {
          "name": "stdout",
          "output_type": "stream",
          "text": [
            "No error\n"
          ]
        }
      ],
      "source": [
        "import numpy as np\n",
        "student_ids = [row[0] for row in db.fetch('SELECT student_id FROM Students')]\n",
        "for student_id in student_ids:\n",
        "    p = Programming(\n",
        "        student_id=student_id,\n",
        "        programs_solved_in_py=np.random.randint(50, 501),\n",
        "        programs_solved_in_sql=np.random.randint(10, 101),\n",
        "        assessments_completed=np.random.randint(2, 11),\n",
        "        mini_projects=np.random.randint(1, 6),\n",
        "        certifications_earned=np.random.randint(0, 3),\n",
        "        latest_project_score=np.random.randint(50, 101)\n",
        "    )\n",
        "    p.save_to_db(db)\n",
        "print('No error')"
      ]
    },
    {
      "cell_type": "code",
      "execution_count": null,
      "id": "82a4f2b7",
      "metadata": {
        "id": "82a4f2b7",
        "outputId": "0a9a622d-6468-4e45-b803-d0beaa6ba185"
      },
      "outputs": [
        {
          "name": "stdout",
          "output_type": "stream",
          "text": [
            "No error\n"
          ]
        }
      ],
      "source": [
        "import numpy as np\n",
        "student_ids = [row[0] for row in db.fetch('SELECT student_id FROM Students')]\n",
        "for student_id in student_ids:\n",
        "    communication=np.random.randint(40, 100)\n",
        "    teamwork=np.random.randint(40, 100)\n",
        "    presentation=np.random.randint(40, 100)\n",
        "    leadership=np.random.randint(40, 100)\n",
        "    critical_thinking=np.random.randint(40, 100)\n",
        "    interpersonal_skills=np.random.randint(40, 100)\n",
        "    ss = softskills(\n",
        "        student_id=student_id,\n",
        "        communication=communication,\n",
        "        teamwork=teamwork,\n",
        "        presentation=presentation,\n",
        "        leadership=leadership,\n",
        "        critical_thinking=critical_thinking,\n",
        "        interpersonal_skills=interpersonal_skills,\n",
        "        Average_score=(communication+teamwork+presentation+leadership+critical_thinking+interpersonal_skills)/6\n",
        "            )\n",
        "    ss.save_to_db(db)\n",
        "print('No error')"
      ]
    },
    {
      "cell_type": "code",
      "execution_count": null,
      "id": "f8f5a40b",
      "metadata": {
        "id": "f8f5a40b",
        "outputId": "e1fecd95-12d8-472c-b6f4-9ce2760fb1a8"
      },
      "outputs": [
        {
          "name": "stdout",
          "output_type": "stream",
          "text": [
            "Created\n"
          ]
        }
      ],
      "source": [
        "from faker import Faker\n",
        "import numpy as np\n",
        "statuses = [\"Ready\", \"Not Ready\", \"Placed\"]\n",
        "companies = [\"TCS\", \"Infosys\", \"Wipro\", \"Amazon\", \"Google\"]\n",
        "student_ids = [row[0] for row in db.fetch('SELECT student_id FROM Students')]\n",
        "fake=Faker()\n",
        "for student_id in student_ids:\n",
        "    placement_status=np.random.choice(statuses)\n",
        "    company_name=''\n",
        "    placement_package=0\n",
        "    placement_date=None\n",
        "    interview_rounds_cleared=np.random.randint(1,5)\n",
        "    if placement_status=='Placed':\n",
        "        company_name=np.random.choice(companies)\n",
        "        placement_package=100000*(np.random.randint(3,15))\n",
        "        interview_rounds_cleared=5\n",
        "        placement_date=fake.date_between(start_date='-1y', end_date='today')\n",
        "    placement = Placement(\n",
        "        student_id=student_id,\n",
        "        mock_interview_score=np.random.randint(50, 100),\n",
        "        internships_completed=np.random.randint(0, 3),\n",
        "        placement_status=placement_status,\n",
        "        company_name=company_name,\n",
        "        placement_package=placement_package,\n",
        "        interview_rounds_cleared=interview_rounds_cleared,\n",
        "        placement_date=placement_date\n",
        "    )\n",
        "    placement.save_to_db(db)\n",
        "print ('Created')"
      ]
    },
    {
      "cell_type": "code",
      "execution_count": null,
      "id": "e4fcbb02",
      "metadata": {
        "id": "e4fcbb02"
      },
      "outputs": [],
      "source": []
    }
  ],
  "metadata": {
    "kernelspec": {
      "display_name": "base",
      "language": "python",
      "name": "python3"
    },
    "language_info": {
      "codemirror_mode": {
        "name": "ipython",
        "version": 3
      },
      "file_extension": ".py",
      "mimetype": "text/x-python",
      "name": "python",
      "nbconvert_exporter": "python",
      "pygments_lexer": "ipython3",
      "version": "3.13.5"
    },
    "colab": {
      "provenance": [],
      "include_colab_link": true
    }
  },
  "nbformat": 4,
  "nbformat_minor": 5
}